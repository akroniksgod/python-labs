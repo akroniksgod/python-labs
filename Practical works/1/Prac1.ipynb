{
 "cells": [
  {
   "cell_type": "markdown",
   "id": "ea33777b-5561-491a-a086-f96e96a5ceac",
   "metadata": {},
   "source": [
    "# Практическая работа №1"
   ]
  },
  {
   "cell_type": "markdown",
   "id": "d78d3a2b-b1e8-4de9-a825-702860bd3a38",
   "metadata": {},
   "source": [
    "## Задание 1"
   ]
  },
  {
   "cell_type": "markdown",
   "id": "17ca2ed6-d895-4406-af44-0d9485227c7b",
   "metadata": {},
   "source": [
    "Сгенерировать, используя модуль псевдослучайных чисел\n",
    "random , или ввести с клавиатуры список целых чисел.\n",
    "Вывести в консоль, затем перевернуть его и снова вывести в\n",
    "консоль."
   ]
  },
  {
   "cell_type": "code",
   "execution_count": 1,
   "id": "8e5eb162-e666-4261-bdd8-74480ef38c68",
   "metadata": {},
   "outputs": [],
   "source": [
    "import random\n",
    "\n",
    "def get_random_list() -> list:\n",
    "    lower_bound = 0\n",
    "    upper_bound = 100\n",
    "    count = 5\n",
    "    return random.sample(range(lower_bound, upper_bound), count)"
   ]
  },
  {
   "cell_type": "code",
   "execution_count": 2,
   "id": "8d2e3d23-9955-43f4-9290-716b593ab84f",
   "metadata": {},
   "outputs": [
    {
     "name": "stdout",
     "output_type": "stream",
     "text": [
      "[86, 99, 14, 92, 2]\n",
      "[2, 92, 14, 99, 86]\n"
     ]
    }
   ],
   "source": [
    "random_list = get_random_list()\n",
    "print(random_list)\n",
    "print(list(reversed(random_list)))"
   ]
  },
  {
   "cell_type": "markdown",
   "id": "d7a773db-a3fc-40bf-80f4-2f11df0c83c4",
   "metadata": {},
   "source": [
    "## Задание 2"
   ]
  },
  {
   "cell_type": "markdown",
   "id": "b8970353-7bf0-44ea-90ff-bf34876a1932",
   "metadata": {},
   "source": [
    "Сгенерировать, используя модуль псевдослучайных чисел\n",
    "random , или ввести с клавиатуры два списка целых чисел.\n",
    "Вывести их в консоль. Создать новый пустой список.\n",
    "Добавить в него все четные (по индексу) элементы первого\n",
    "списка и все нечетные (по индексу) элементы второго списка.\n",
    "Вывести третий список в консоль."
   ]
  },
  {
   "cell_type": "code",
   "execution_count": 3,
   "id": "34df4ad8-dfe3-4c32-ac0c-8ecbceb94b44",
   "metadata": {},
   "outputs": [
    {
     "name": "stdout",
     "output_type": "stream",
     "text": [
      "[76, 62, 94, 99, 85]\n",
      "[2, 81, 8, 25, 62]\n",
      "[76, 81, 94, 25, 85]\n"
     ]
    }
   ],
   "source": [
    "random_first_list = get_random_list()\n",
    "random_second_list = get_random_list()\n",
    "length = len(random_first_list)\n",
    "third_list = []\n",
    "\n",
    "for i in range(length):\n",
    "    is_odd_index = i % 2 > 0\n",
    "    third_list.append(random_second_list[i] if is_odd_index else random_first_list[i])\n",
    "\n",
    "print(random_first_list)\n",
    "print(random_second_list)\n",
    "print(third_list)"
   ]
  },
  {
   "cell_type": "markdown",
   "id": "e072e268-fd0f-4c14-be37-d022f723d91c",
   "metadata": {},
   "source": [
    "## Задание 3"
   ]
  },
  {
   "cell_type": "markdown",
   "id": "bdb2a46c-b660-4134-a87f-4d1ddf39a3f4",
   "metadata": {},
   "source": [
    "Сгенерировать, используя модуль псевдослучайных чисел\n",
    "random , или ввести с клавиатуры список произвольных\n",
    "элементов (целые числа, числа с плавающей точкой, строки).\n",
    "Вывести в консоль. Убрать из него все дубликаты через\n",
    "приведение типов. Вывести в консоль."
   ]
  },
  {
   "cell_type": "code",
   "execution_count": 10,
   "id": "a3127172-1e42-4cea-bd95-3432e4144ec7",
   "metadata": {},
   "outputs": [
    {
     "name": "stdout",
     "output_type": "stream",
     "text": [
      "['62', '34', 57, 5, '34', '4', 16, 20.22474909617277, 5, 87]\n",
      "['62', '34', 57, 5, '4', 16, 20.22474909617277, 5, 87]\n"
     ]
    }
   ],
   "source": [
    "types = ['int', 'float', 'str']\n",
    "lower_bound = 0\n",
    "upper_bound = 100\n",
    "length = 10\n",
    "lst = []\n",
    "\n",
    "for i in range(length):\n",
    "    current_type = types[random.randint(0, len(types) - 1)]\n",
    "    # int\n",
    "    if current_type == types[0]:\n",
    "        lst.append(random.randint(lower_bound, upper_bound))\n",
    "        continue\n",
    "\n",
    "    # float\n",
    "    if current_type == types[1]:\n",
    "        lst.append(random.uniform(lower_bound, upper_bound))\n",
    "        continue\n",
    "\n",
    "    # str\n",
    "    if current_type == types[2]:\n",
    "        lst.append(str(random.randint(lower_bound, upper_bound)))\n",
    "\n",
    "print(lst)\n",
    "new_lst = []\n",
    "for i in lst:\n",
    "    item = str(i) if type(i) != 'str' else i\n",
    "    if item not in new_lst:\n",
    "        new_lst.append(i)\n",
    "\n",
    "print(new_lst)"
   ]
  },
  {
   "cell_type": "markdown",
   "id": "860e7ac8-d1e4-4970-a366-0f79ac8d24f8",
   "metadata": {},
   "source": [
    "## Задание 4"
   ]
  },
  {
   "cell_type": "markdown",
   "id": "5a3fc676-7e81-4c39-932a-6c5dde0c8e13",
   "metadata": {},
   "source": [
    "Сгенерировать, используя модуль псевдослучайных чисел\n",
    "random , или ввести с клавиатуры словарь, где ключом\n",
    "является строка, значением — целое число или число с\n",
    "плавающей точкой. Вывести в консоль. Для всех уникальных\n",
    "значений создать кортеж, где первым элементом будет\n",
    "значение, вторым — список связанных с ним ключей. Собрать\n",
    "эти кортежи в список, вывести его в консоль."
   ]
  },
  {
   "cell_type": "code",
   "execution_count": 5,
   "id": "cfb2f085-9bd1-4d91-b424-87a37c09d082",
   "metadata": {},
   "outputs": [],
   "source": [
    "def get_random_dict() -> dict:\n",
    "    d = {}\n",
    "    count = 10\n",
    "    lower_bound = 0\n",
    "    upper_bound = 100\n",
    "\n",
    "    for i in range(count):\n",
    "        d = {**d, str(i): random.randint(lower_bound, upper_bound)}\n",
    "\n",
    "    return d"
   ]
  },
  {
   "cell_type": "code",
   "execution_count": 6,
   "id": "063d253b-27ae-4a66-8519-b9a51507a936",
   "metadata": {},
   "outputs": [],
   "source": [
    "def get_keys_for_value(value, d: dict) -> list:\n",
    "    keys = []\n",
    "    for key, curr_value in d.items():\n",
    "        if curr_value != value:\n",
    "            continue\n",
    "\n",
    "        keys.append(key)\n",
    "\n",
    "    return keys"
   ]
  },
  {
   "cell_type": "code",
   "execution_count": 7,
   "id": "c7f67372-b23d-4826-a7bf-44ce68bca748",
   "metadata": {},
   "outputs": [
    {
     "name": "stdout",
     "output_type": "stream",
     "text": [
      "{'0': 56, '1': 14, '2': 18, '3': 1, '4': 15, '5': 78, '6': 57, '7': 76, '8': 37, '9': 51}\n",
      "[(1, ['3']), (37, ['8']), (76, ['7']), (14, ['1']), (15, ['4']), (78, ['5']), (18, ['2']), (51, ['9']), (56, ['0']), (57, ['6'])]\n"
     ]
    }
   ],
   "source": [
    "d = get_random_dict()\n",
    "\n",
    "unique_values = set(d.values())\n",
    "\n",
    "lst = []\n",
    "for value in unique_values:\n",
    "    this_tuple = (value, get_keys_for_value(value, d))\n",
    "    lst.append(this_tuple)\n",
    "\n",
    "print(d)\n",
    "print(lst)"
   ]
  },
  {
   "cell_type": "markdown",
   "id": "95519332-60e5-4446-98b9-9ec13ecd48ff",
   "metadata": {},
   "source": [
    "## Задание 5"
   ]
  },
  {
   "cell_type": "markdown",
   "id": "d813fca2-ea8e-4b51-bb09-0ae8de8defa3",
   "metadata": {},
   "source": [
    "Сгенерировать, используя модуль псевдослучайных чисел\n",
    "random , или ввести с клавиатуры два словаря, где ключом\n",
    "является строка, значением — целое число или число с\n",
    "плавающей точкой. Вывести в консоль. Найти пересечения\n",
    "множеств значений словарей. Создать новый словарь,\n",
    "содержащий только те пары ключ-значение, значения из\n",
    "которых входит в пересечение. Вывести в консоль."
   ]
  },
  {
   "cell_type": "code",
   "execution_count": 8,
   "id": "88d67b9e-199c-4f2a-81bf-675ab9e52bba",
   "metadata": {},
   "outputs": [],
   "source": [
    "def get_key_by_value(value, dictionary: dict) -> str:\n",
    "    for key, curr_value in dictionary.items():\n",
    "        if curr_value == value:\n",
    "            return key"
   ]
  },
  {
   "cell_type": "code",
   "execution_count": 9,
   "id": "2a3dfc2d-ad9f-432e-9db0-d7f2f368afde",
   "metadata": {
    "scrolled": true
   },
   "outputs": [
    {
     "name": "stdout",
     "output_type": "stream",
     "text": [
      "{'0': 11, '1': 7, '2': 42, '3': 88, '4': 70, '5': 41, '6': 67, '7': 84, '8': 78, '9': 71}\n",
      "{'0': 10, '1': 25, '2': 76, '3': 31, '4': 78, '5': 37, '6': 39, '7': 49, '8': 1, '9': 71}\n",
      "{78, 71}\n",
      "{'8': 78, '4': 78, '9': 71}\n"
     ]
    }
   ],
   "source": [
    "dict1 = get_random_dict()\n",
    "dict2 = get_random_dict()\n",
    "print(dict1)\n",
    "print(dict2)\n",
    "values1 = set(dict1.values())\n",
    "values2 = set(dict2.values())\n",
    "\n",
    "values_intersection = values1.intersection(values2)\n",
    "\n",
    "print(values_intersection)\n",
    "dict3 = {}\n",
    "for item in values_intersection:\n",
    "    k1 = get_key_by_value(item, dict1)\n",
    "    dict3 = {**dict3, k1: item}\n",
    "    k2 = get_key_by_value(item, dict2)\n",
    "    dict3 = {**dict3, k2: item}\n",
    "\n",
    "print(dict3)"
   ]
  }
 ],
 "metadata": {
  "kernelspec": {
   "display_name": "Python 3 (ipykernel)",
   "language": "python",
   "name": "python3"
  },
  "language_info": {
   "codemirror_mode": {
    "name": "ipython",
    "version": 3
   },
   "file_extension": ".py",
   "mimetype": "text/x-python",
   "name": "python",
   "nbconvert_exporter": "python",
   "pygments_lexer": "ipython3",
   "version": "3.12.6"
  }
 },
 "nbformat": 4,
 "nbformat_minor": 5
}
